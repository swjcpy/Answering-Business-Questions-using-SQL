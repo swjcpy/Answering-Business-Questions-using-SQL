{
 "cells": [
  {
   "cell_type": "markdown",
   "metadata": {},
   "source": [
    "# Introduction"
   ]
  },
  {
   "cell_type": "markdown",
   "metadata": {},
   "source": [
    "We will create some helper functions in python to save some time and use a context manager to handle the connection to the SQLite database."
   ]
  },
  {
   "cell_type": "code",
   "execution_count": 1,
   "metadata": {
    "collapsed": false
   },
   "outputs": [
    {
     "data": {
      "text/html": [
       "<div>\n",
       "<style scoped>\n",
       "    .dataframe tbody tr th:only-of-type {\n",
       "        vertical-align: middle;\n",
       "    }\n",
       "\n",
       "    .dataframe tbody tr th {\n",
       "        vertical-align: top;\n",
       "    }\n",
       "\n",
       "    .dataframe thead th {\n",
       "        text-align: right;\n",
       "    }\n",
       "</style>\n",
       "<table border=\"1\" class=\"dataframe\">\n",
       "  <thead>\n",
       "    <tr style=\"text-align: right;\">\n",
       "      <th></th>\n",
       "      <th>name</th>\n",
       "      <th>type</th>\n",
       "    </tr>\n",
       "  </thead>\n",
       "  <tbody>\n",
       "    <tr>\n",
       "      <th>0</th>\n",
       "      <td>album</td>\n",
       "      <td>table</td>\n",
       "    </tr>\n",
       "    <tr>\n",
       "      <th>1</th>\n",
       "      <td>artist</td>\n",
       "      <td>table</td>\n",
       "    </tr>\n",
       "    <tr>\n",
       "      <th>2</th>\n",
       "      <td>customer</td>\n",
       "      <td>table</td>\n",
       "    </tr>\n",
       "    <tr>\n",
       "      <th>3</th>\n",
       "      <td>employee</td>\n",
       "      <td>table</td>\n",
       "    </tr>\n",
       "    <tr>\n",
       "      <th>4</th>\n",
       "      <td>genre</td>\n",
       "      <td>table</td>\n",
       "    </tr>\n",
       "    <tr>\n",
       "      <th>5</th>\n",
       "      <td>invoice</td>\n",
       "      <td>table</td>\n",
       "    </tr>\n",
       "    <tr>\n",
       "      <th>6</th>\n",
       "      <td>invoice_line</td>\n",
       "      <td>table</td>\n",
       "    </tr>\n",
       "    <tr>\n",
       "      <th>7</th>\n",
       "      <td>media_type</td>\n",
       "      <td>table</td>\n",
       "    </tr>\n",
       "    <tr>\n",
       "      <th>8</th>\n",
       "      <td>playlist</td>\n",
       "      <td>table</td>\n",
       "    </tr>\n",
       "    <tr>\n",
       "      <th>9</th>\n",
       "      <td>playlist_track</td>\n",
       "      <td>table</td>\n",
       "    </tr>\n",
       "    <tr>\n",
       "      <th>10</th>\n",
       "      <td>track</td>\n",
       "      <td>table</td>\n",
       "    </tr>\n",
       "  </tbody>\n",
       "</table>\n",
       "</div>"
      ],
      "text/plain": [
       "              name   type\n",
       "0            album  table\n",
       "1           artist  table\n",
       "2         customer  table\n",
       "3         employee  table\n",
       "4            genre  table\n",
       "5          invoice  table\n",
       "6     invoice_line  table\n",
       "7       media_type  table\n",
       "8         playlist  table\n",
       "9   playlist_track  table\n",
       "10           track  table"
      ]
     },
     "execution_count": 1,
     "metadata": {},
     "output_type": "execute_result"
    }
   ],
   "source": [
    "import sqlite3\n",
    "import pandas as pd\n",
    "import matplotlib as plt\n",
    "%matplotlib inline\n",
    "\n",
    "def run_query(q):\n",
    "    with sqlite3.connect('chinook.db') as conn:\n",
    "        return pd.read_sql(q,conn)\n",
    "\n",
    "def run_command(c):\n",
    "    with sqlite3.connect('chinook.db') as conn:\n",
    "        conn.isolation_level = None\n",
    "        conn.execute(c)\n",
    "    \n",
    "def show_tables():\n",
    "    q='Select name, type from sqlite_master where type In (\"table\",\"view\");'\n",
    "    return run_query(q)\n",
    "\n",
    "show_tables()"
   ]
  },
  {
   "cell_type": "code",
   "execution_count": 2,
   "metadata": {
    "collapsed": false
   },
   "outputs": [
    {
     "data": {
      "text/html": [
       "<div>\n",
       "<style scoped>\n",
       "    .dataframe tbody tr th:only-of-type {\n",
       "        vertical-align: middle;\n",
       "    }\n",
       "\n",
       "    .dataframe tbody tr th {\n",
       "        vertical-align: top;\n",
       "    }\n",
       "\n",
       "    .dataframe thead th {\n",
       "        text-align: right;\n",
       "    }\n",
       "</style>\n",
       "<table border=\"1\" class=\"dataframe\">\n",
       "  <thead>\n",
       "    <tr style=\"text-align: right;\">\n",
       "      <th></th>\n",
       "      <th>genre</th>\n",
       "      <th>number_sold</th>\n",
       "      <th>percentage</th>\n",
       "    </tr>\n",
       "  </thead>\n",
       "  <tbody>\n",
       "    <tr>\n",
       "      <th>0</th>\n",
       "      <td>Alternative</td>\n",
       "      <td>117</td>\n",
       "      <td>0.024595</td>\n",
       "    </tr>\n",
       "    <tr>\n",
       "      <th>1</th>\n",
       "      <td>Alternative &amp; Punk</td>\n",
       "      <td>492</td>\n",
       "      <td>0.103427</td>\n",
       "    </tr>\n",
       "    <tr>\n",
       "      <th>2</th>\n",
       "      <td>Blues</td>\n",
       "      <td>124</td>\n",
       "      <td>0.026067</td>\n",
       "    </tr>\n",
       "    <tr>\n",
       "      <th>3</th>\n",
       "      <td>Classical</td>\n",
       "      <td>47</td>\n",
       "      <td>0.009880</td>\n",
       "    </tr>\n",
       "    <tr>\n",
       "      <th>4</th>\n",
       "      <td>Drama</td>\n",
       "      <td>1</td>\n",
       "      <td>0.000210</td>\n",
       "    </tr>\n",
       "    <tr>\n",
       "      <th>5</th>\n",
       "      <td>Easy Listening</td>\n",
       "      <td>74</td>\n",
       "      <td>0.015556</td>\n",
       "    </tr>\n",
       "    <tr>\n",
       "      <th>6</th>\n",
       "      <td>Electronica/Dance</td>\n",
       "      <td>55</td>\n",
       "      <td>0.011562</td>\n",
       "    </tr>\n",
       "    <tr>\n",
       "      <th>7</th>\n",
       "      <td>Heavy Metal</td>\n",
       "      <td>8</td>\n",
       "      <td>0.001682</td>\n",
       "    </tr>\n",
       "    <tr>\n",
       "      <th>8</th>\n",
       "      <td>Hip Hop/Rap</td>\n",
       "      <td>33</td>\n",
       "      <td>0.006937</td>\n",
       "    </tr>\n",
       "    <tr>\n",
       "      <th>9</th>\n",
       "      <td>Jazz</td>\n",
       "      <td>121</td>\n",
       "      <td>0.025436</td>\n",
       "    </tr>\n",
       "    <tr>\n",
       "      <th>10</th>\n",
       "      <td>Latin</td>\n",
       "      <td>167</td>\n",
       "      <td>0.035106</td>\n",
       "    </tr>\n",
       "    <tr>\n",
       "      <th>11</th>\n",
       "      <td>Metal</td>\n",
       "      <td>619</td>\n",
       "      <td>0.130124</td>\n",
       "    </tr>\n",
       "    <tr>\n",
       "      <th>12</th>\n",
       "      <td>Pop</td>\n",
       "      <td>63</td>\n",
       "      <td>0.013244</td>\n",
       "    </tr>\n",
       "    <tr>\n",
       "      <th>13</th>\n",
       "      <td>R&amp;B/Soul</td>\n",
       "      <td>159</td>\n",
       "      <td>0.033424</td>\n",
       "    </tr>\n",
       "    <tr>\n",
       "      <th>14</th>\n",
       "      <td>Reggae</td>\n",
       "      <td>35</td>\n",
       "      <td>0.007358</td>\n",
       "    </tr>\n",
       "    <tr>\n",
       "      <th>15</th>\n",
       "      <td>Rock</td>\n",
       "      <td>2635</td>\n",
       "      <td>0.553921</td>\n",
       "    </tr>\n",
       "    <tr>\n",
       "      <th>16</th>\n",
       "      <td>Soundtrack</td>\n",
       "      <td>5</td>\n",
       "      <td>0.001051</td>\n",
       "    </tr>\n",
       "    <tr>\n",
       "      <th>17</th>\n",
       "      <td>TV Shows</td>\n",
       "      <td>2</td>\n",
       "      <td>0.000420</td>\n",
       "    </tr>\n",
       "  </tbody>\n",
       "</table>\n",
       "</div>"
      ],
      "text/plain": [
       "                 genre  number_sold  percentage\n",
       "0          Alternative          117    0.024595\n",
       "1   Alternative & Punk          492    0.103427\n",
       "2                Blues          124    0.026067\n",
       "3            Classical           47    0.009880\n",
       "4                Drama            1    0.000210\n",
       "5       Easy Listening           74    0.015556\n",
       "6    Electronica/Dance           55    0.011562\n",
       "7          Heavy Metal            8    0.001682\n",
       "8          Hip Hop/Rap           33    0.006937\n",
       "9                 Jazz          121    0.025436\n",
       "10               Latin          167    0.035106\n",
       "11               Metal          619    0.130124\n",
       "12                 Pop           63    0.013244\n",
       "13            R&B/Soul          159    0.033424\n",
       "14              Reggae           35    0.007358\n",
       "15                Rock         2635    0.553921\n",
       "16          Soundtrack            5    0.001051\n",
       "17            TV Shows            2    0.000420"
      ]
     },
     "execution_count": 2,
     "metadata": {},
     "output_type": "execute_result"
    }
   ],
   "source": [
    "q1 = '''select g.name as genre, SUM(il.quantity) as number_sold, \n",
    "CAST(SUM(il.quantity) as float)/(select sum(quantity) from invoice_line) as percentage\n",
    "from genre as g\n",
    "inner JOIN track as t ON g.genre_id=t.genre_id\n",
    "INner JOin invoice_line as il ON il.track_id = t.track_id\n",
    "Group by 1\n",
    "'''\n",
    "\n",
    "run_query(q1)"
   ]
  },
  {
   "cell_type": "code",
   "execution_count": 3,
   "metadata": {
    "collapsed": false
   },
   "outputs": [
    {
     "data": {
      "text/plain": [
       "<matplotlib.axes._subplots.AxesSubplot at 0x7f0fa010c630>"
      ]
     },
     "execution_count": 3,
     "metadata": {},
     "output_type": "execute_result"
    },
    {
     "data": {
      "image/png": "[encoded data removed]",
      "text/plain": [
       "<matplotlib.figure.Figure at 0x7f0fa014ea90>"
      ]
     },
     "metadata": {},
     "output_type": "display_data"
    }
   ],
   "source": [
    "data1 = run_query(q1)\n",
    "data1.set_index(\"genre\",drop=True,inplace=True)\n",
    "data1['number_sold'].plot.bar()"
   ]
  },
  {
   "cell_type": "code",
   "execution_count": 4,
   "metadata": {
    "collapsed": false
   },
   "outputs": [
    {
     "data": {
      "text/html": [
       "<div>\n",
       "<style scoped>\n",
       "    .dataframe tbody tr th:only-of-type {\n",
       "        vertical-align: middle;\n",
       "    }\n",
       "\n",
       "    .dataframe tbody tr th {\n",
       "        vertical-align: top;\n",
       "    }\n",
       "\n",
       "    .dataframe thead th {\n",
       "        text-align: right;\n",
       "    }\n",
       "</style>\n",
       "<table border=\"1\" class=\"dataframe\">\n",
       "  <thead>\n",
       "    <tr style=\"text-align: right;\">\n",
       "      <th></th>\n",
       "      <th>genre</th>\n",
       "      <th>number_sold</th>\n",
       "      <th>percentage</th>\n",
       "    </tr>\n",
       "  </thead>\n",
       "  <tbody>\n",
       "    <tr>\n",
       "      <th>0</th>\n",
       "      <td>Alternative</td>\n",
       "      <td>117.0</td>\n",
       "      <td>0.024595</td>\n",
       "    </tr>\n",
       "    <tr>\n",
       "      <th>1</th>\n",
       "      <td>Alternative &amp; Punk</td>\n",
       "      <td>492.0</td>\n",
       "      <td>0.103427</td>\n",
       "    </tr>\n",
       "    <tr>\n",
       "      <th>2</th>\n",
       "      <td>Blues</td>\n",
       "      <td>124.0</td>\n",
       "      <td>0.026067</td>\n",
       "    </tr>\n",
       "    <tr>\n",
       "      <th>3</th>\n",
       "      <td>Bossa Nova</td>\n",
       "      <td>NaN</td>\n",
       "      <td>NaN</td>\n",
       "    </tr>\n",
       "    <tr>\n",
       "      <th>4</th>\n",
       "      <td>Classical</td>\n",
       "      <td>47.0</td>\n",
       "      <td>0.009880</td>\n",
       "    </tr>\n",
       "    <tr>\n",
       "      <th>5</th>\n",
       "      <td>Comedy</td>\n",
       "      <td>NaN</td>\n",
       "      <td>NaN</td>\n",
       "    </tr>\n",
       "    <tr>\n",
       "      <th>6</th>\n",
       "      <td>Drama</td>\n",
       "      <td>1.0</td>\n",
       "      <td>0.000210</td>\n",
       "    </tr>\n",
       "    <tr>\n",
       "      <th>7</th>\n",
       "      <td>Easy Listening</td>\n",
       "      <td>74.0</td>\n",
       "      <td>0.015556</td>\n",
       "    </tr>\n",
       "    <tr>\n",
       "      <th>8</th>\n",
       "      <td>Electronica/Dance</td>\n",
       "      <td>55.0</td>\n",
       "      <td>0.011562</td>\n",
       "    </tr>\n",
       "    <tr>\n",
       "      <th>9</th>\n",
       "      <td>Heavy Metal</td>\n",
       "      <td>8.0</td>\n",
       "      <td>0.001682</td>\n",
       "    </tr>\n",
       "    <tr>\n",
       "      <th>10</th>\n",
       "      <td>Hip Hop/Rap</td>\n",
       "      <td>33.0</td>\n",
       "      <td>0.006937</td>\n",
       "    </tr>\n",
       "    <tr>\n",
       "      <th>11</th>\n",
       "      <td>Jazz</td>\n",
       "      <td>121.0</td>\n",
       "      <td>0.025436</td>\n",
       "    </tr>\n",
       "    <tr>\n",
       "      <th>12</th>\n",
       "      <td>Latin</td>\n",
       "      <td>167.0</td>\n",
       "      <td>0.035106</td>\n",
       "    </tr>\n",
       "    <tr>\n",
       "      <th>13</th>\n",
       "      <td>Metal</td>\n",
       "      <td>619.0</td>\n",
       "      <td>0.130124</td>\n",
       "    </tr>\n",
       "    <tr>\n",
       "      <th>14</th>\n",
       "      <td>Opera</td>\n",
       "      <td>NaN</td>\n",
       "      <td>NaN</td>\n",
       "    </tr>\n",
       "    <tr>\n",
       "      <th>15</th>\n",
       "      <td>Pop</td>\n",
       "      <td>63.0</td>\n",
       "      <td>0.013244</td>\n",
       "    </tr>\n",
       "    <tr>\n",
       "      <th>16</th>\n",
       "      <td>R&amp;B/Soul</td>\n",
       "      <td>159.0</td>\n",
       "      <td>0.033424</td>\n",
       "    </tr>\n",
       "    <tr>\n",
       "      <th>17</th>\n",
       "      <td>Reggae</td>\n",
       "      <td>35.0</td>\n",
       "      <td>0.007358</td>\n",
       "    </tr>\n",
       "    <tr>\n",
       "      <th>18</th>\n",
       "      <td>Rock</td>\n",
       "      <td>2635.0</td>\n",
       "      <td>0.553921</td>\n",
       "    </tr>\n",
       "    <tr>\n",
       "      <th>19</th>\n",
       "      <td>Rock And Roll</td>\n",
       "      <td>NaN</td>\n",
       "      <td>NaN</td>\n",
       "    </tr>\n",
       "    <tr>\n",
       "      <th>20</th>\n",
       "      <td>Sci Fi &amp; Fantasy</td>\n",
       "      <td>NaN</td>\n",
       "      <td>NaN</td>\n",
       "    </tr>\n",
       "    <tr>\n",
       "      <th>21</th>\n",
       "      <td>Science Fiction</td>\n",
       "      <td>NaN</td>\n",
       "      <td>NaN</td>\n",
       "    </tr>\n",
       "    <tr>\n",
       "      <th>22</th>\n",
       "      <td>Soundtrack</td>\n",
       "      <td>5.0</td>\n",
       "      <td>0.001051</td>\n",
       "    </tr>\n",
       "    <tr>\n",
       "      <th>23</th>\n",
       "      <td>TV Shows</td>\n",
       "      <td>2.0</td>\n",
       "      <td>0.000420</td>\n",
       "    </tr>\n",
       "    <tr>\n",
       "      <th>24</th>\n",
       "      <td>World</td>\n",
       "      <td>NaN</td>\n",
       "      <td>NaN</td>\n",
       "    </tr>\n",
       "  </tbody>\n",
       "</table>\n",
       "</div>"
      ],
      "text/plain": [
       "                 genre  number_sold  percentage\n",
       "0          Alternative        117.0    0.024595\n",
       "1   Alternative & Punk        492.0    0.103427\n",
       "2                Blues        124.0    0.026067\n",
       "3           Bossa Nova          NaN         NaN\n",
       "4            Classical         47.0    0.009880\n",
       "5               Comedy          NaN         NaN\n",
       "6                Drama          1.0    0.000210\n",
       "7       Easy Listening         74.0    0.015556\n",
       "8    Electronica/Dance         55.0    0.011562\n",
       "9          Heavy Metal          8.0    0.001682\n",
       "10         Hip Hop/Rap         33.0    0.006937\n",
       "11                Jazz        121.0    0.025436\n",
       "12               Latin        167.0    0.035106\n",
       "13               Metal        619.0    0.130124\n",
       "14               Opera          NaN         NaN\n",
       "15                 Pop         63.0    0.013244\n",
       "16            R&B/Soul        159.0    0.033424\n",
       "17              Reggae         35.0    0.007358\n",
       "18                Rock       2635.0    0.553921\n",
       "19       Rock And Roll          NaN         NaN\n",
       "20    Sci Fi & Fantasy          NaN         NaN\n",
       "21     Science Fiction          NaN         NaN\n",
       "22          Soundtrack          5.0    0.001051\n",
       "23            TV Shows          2.0    0.000420\n",
       "24               World          NaN         NaN"
      ]
     },
     "execution_count": 4,
     "metadata": {},
     "output_type": "execute_result"
    }
   ],
   "source": [
    "q2 = '''select g.name as genre, SUM(il.quantity) as number_sold, \n",
    "CAST(SUM(il.quantity) as float)/(select sum(quantity) from invoice_line) as percentage\n",
    "from genre as g\n",
    "left JOIN track as t ON g.genre_id=t.genre_id\n",
    "left JOin invoice_line as il ON il.track_id = t.track_id\n",
    "Group by 1\n",
    "'''\n",
    "run_query(q2)"
   ]
  },
  {
   "cell_type": "markdown",
   "metadata": {},
   "source": [
    "Finds the total dollar amount of sales assigned to each sales support agent within the company."
   ]
  },
  {
   "cell_type": "code",
   "execution_count": 5,
   "metadata": {
    "collapsed": false
   },
   "outputs": [
    {
     "data": {
      "text/html": [
       "<div>\n",
       "<style scoped>\n",
       "    .dataframe tbody tr th:only-of-type {\n",
       "        vertical-align: middle;\n",
       "    }\n",
       "\n",
       "    .dataframe tbody tr th {\n",
       "        vertical-align: top;\n",
       "    }\n",
       "\n",
       "    .dataframe thead th {\n",
       "        text-align: right;\n",
       "    }\n",
       "</style>\n",
       "<table border=\"1\" class=\"dataframe\">\n",
       "  <thead>\n",
       "    <tr style=\"text-align: right;\">\n",
       "      <th></th>\n",
       "      <th>employee_name</th>\n",
       "      <th>total_sales</th>\n",
       "    </tr>\n",
       "  </thead>\n",
       "  <tbody>\n",
       "    <tr>\n",
       "      <th>0</th>\n",
       "      <td>Jane Peacock</td>\n",
       "      <td>1731.51</td>\n",
       "    </tr>\n",
       "    <tr>\n",
       "      <th>1</th>\n",
       "      <td>Margaret Park</td>\n",
       "      <td>1584.00</td>\n",
       "    </tr>\n",
       "    <tr>\n",
       "      <th>2</th>\n",
       "      <td>Steve Johnson</td>\n",
       "      <td>1393.92</td>\n",
       "    </tr>\n",
       "  </tbody>\n",
       "</table>\n",
       "</div>"
      ],
      "text/plain": [
       "   employee_name  total_sales\n",
       "0   Jane Peacock      1731.51\n",
       "1  Margaret Park      1584.00\n",
       "2  Steve Johnson      1393.92"
      ]
     },
     "execution_count": 5,
     "metadata": {},
     "output_type": "execute_result"
    }
   ],
   "source": [
    "q3 = '''select \n",
    "e.first_name || ' ' || e.last_name as employee_name,\n",
    "SUM(i.total) as total_sales from employee as e\n",
    "Inner Join customer as c On c.support_rep_id = e.employee_id\n",
    "Inner Join invoice as i on i.customer_id = c.customer_id\n",
    "group by 1\n",
    "order by 1;\n",
    "'''\n",
    "run_query(q3)"
   ]
  },
  {
   "cell_type": "code",
   "execution_count": 6,
   "metadata": {
    "collapsed": false
   },
   "outputs": [
    {
     "data": {
      "text/html": [
       "<div>\n",
       "<style scoped>\n",
       "    .dataframe tbody tr th:only-of-type {\n",
       "        vertical-align: middle;\n",
       "    }\n",
       "\n",
       "    .dataframe tbody tr th {\n",
       "        vertical-align: top;\n",
       "    }\n",
       "\n",
       "    .dataframe thead th {\n",
       "        text-align: right;\n",
       "    }\n",
       "</style>\n",
       "<table border=\"1\" class=\"dataframe\">\n",
       "  <thead>\n",
       "    <tr style=\"text-align: right;\">\n",
       "      <th></th>\n",
       "      <th>employee_name</th>\n",
       "    </tr>\n",
       "  </thead>\n",
       "  <tbody>\n",
       "    <tr>\n",
       "      <th>0</th>\n",
       "      <td>Jane Peacock</td>\n",
       "    </tr>\n",
       "    <tr>\n",
       "      <th>1</th>\n",
       "      <td>Margaret Park</td>\n",
       "    </tr>\n",
       "    <tr>\n",
       "      <th>2</th>\n",
       "      <td>Steve Johnson</td>\n",
       "    </tr>\n",
       "  </tbody>\n",
       "</table>\n",
       "</div>"
      ],
      "text/plain": [
       "   employee_name\n",
       "0   Jane Peacock\n",
       "1  Margaret Park\n",
       "2  Steve Johnson"
      ]
     },
     "execution_count": 6,
     "metadata": {},
     "output_type": "execute_result"
    }
   ],
   "source": [
    "q4 = '''select \n",
    "e.first_name || ' ' || e.last_name as employee_name\n",
    "from employee as e\n",
    "Left Join customer as c On c.support_rep_id = e.employee_id\n",
    "left Join invoice as i on i.customer_id = c.customer_id\n",
    "where e.title = 'Sales Support Agent'\n",
    "group by 1\n",
    "order by 1;\n",
    "'''\n",
    "run_query(q4)"
   ]
  },
  {
   "cell_type": "code",
   "execution_count": 7,
   "metadata": {
    "collapsed": false
   },
   "outputs": [
    {
     "data": {
      "text/plain": [
       "<matplotlib.axes._subplots.AxesSubplot at 0x7f0f456f2d68>"
      ]
     },
     "execution_count": 7,
     "metadata": {},
     "output_type": "execute_result"
    },
    {
     "data": {
      "image/png": "[encoded data removed]",
      "text/plain": [
       "<matplotlib.figure.Figure at 0x7f0fa00a5c18>"
      ]
     },
     "metadata": {},
     "output_type": "display_data"
    }
   ],
   "source": [
    "data2 = run_query(q3)\n",
    "data2.set_index(\"employee_name\",drop=True,inplace=True)\n",
    "data2.plot.bar()"
   ]
  },
  {
   "cell_type": "markdown",
   "metadata": {},
   "source": [
    "Collects data on purchases from different countries, where a country has only one customer, collect them into an 'other' group"
   ]
  },
  {
   "cell_type": "code",
   "execution_count": 8,
   "metadata": {
    "collapsed": false
   },
   "outputs": [
    {
     "data": {
      "text/html": [
       "<div>\n",
       "<style scoped>\n",
       "    .dataframe tbody tr th:only-of-type {\n",
       "        vertical-align: middle;\n",
       "    }\n",
       "\n",
       "    .dataframe tbody tr th {\n",
       "        vertical-align: top;\n",
       "    }\n",
       "\n",
       "    .dataframe thead th {\n",
       "        text-align: right;\n",
       "    }\n",
       "</style>\n",
       "<table border=\"1\" class=\"dataframe\">\n",
       "  <thead>\n",
       "    <tr style=\"text-align: right;\">\n",
       "      <th></th>\n",
       "      <th>country_other</th>\n",
       "      <th>total_customers</th>\n",
       "      <th>total_sales</th>\n",
       "      <th>avg_sales_per_customer</th>\n",
       "      <th>avg_order_value</th>\n",
       "    </tr>\n",
       "  </thead>\n",
       "  <tbody>\n",
       "    <tr>\n",
       "      <th>0</th>\n",
       "      <td>USA</td>\n",
       "      <td>13</td>\n",
       "      <td>1040.49</td>\n",
       "      <td>80.037692</td>\n",
       "      <td>7.942672</td>\n",
       "    </tr>\n",
       "    <tr>\n",
       "      <th>1</th>\n",
       "      <td>Canada</td>\n",
       "      <td>8</td>\n",
       "      <td>535.59</td>\n",
       "      <td>66.948750</td>\n",
       "      <td>7.047237</td>\n",
       "    </tr>\n",
       "    <tr>\n",
       "      <th>2</th>\n",
       "      <td>Brazil</td>\n",
       "      <td>5</td>\n",
       "      <td>427.68</td>\n",
       "      <td>85.536000</td>\n",
       "      <td>7.011148</td>\n",
       "    </tr>\n",
       "    <tr>\n",
       "      <th>3</th>\n",
       "      <td>France</td>\n",
       "      <td>5</td>\n",
       "      <td>389.07</td>\n",
       "      <td>77.814000</td>\n",
       "      <td>7.781400</td>\n",
       "    </tr>\n",
       "    <tr>\n",
       "      <th>4</th>\n",
       "      <td>Germany</td>\n",
       "      <td>4</td>\n",
       "      <td>334.62</td>\n",
       "      <td>83.655000</td>\n",
       "      <td>8.161463</td>\n",
       "    </tr>\n",
       "    <tr>\n",
       "      <th>5</th>\n",
       "      <td>Czech Republic</td>\n",
       "      <td>2</td>\n",
       "      <td>273.24</td>\n",
       "      <td>136.620000</td>\n",
       "      <td>9.108000</td>\n",
       "    </tr>\n",
       "    <tr>\n",
       "      <th>6</th>\n",
       "      <td>United Kingdom</td>\n",
       "      <td>3</td>\n",
       "      <td>245.52</td>\n",
       "      <td>81.840000</td>\n",
       "      <td>8.768571</td>\n",
       "    </tr>\n",
       "    <tr>\n",
       "      <th>7</th>\n",
       "      <td>Portugal</td>\n",
       "      <td>2</td>\n",
       "      <td>185.13</td>\n",
       "      <td>92.565000</td>\n",
       "      <td>6.383793</td>\n",
       "    </tr>\n",
       "    <tr>\n",
       "      <th>8</th>\n",
       "      <td>India</td>\n",
       "      <td>2</td>\n",
       "      <td>183.15</td>\n",
       "      <td>91.575000</td>\n",
       "      <td>8.721429</td>\n",
       "    </tr>\n",
       "    <tr>\n",
       "      <th>9</th>\n",
       "      <td>other</td>\n",
       "      <td>15</td>\n",
       "      <td>1094.94</td>\n",
       "      <td>72.996000</td>\n",
       "      <td>7.445071</td>\n",
       "    </tr>\n",
       "  </tbody>\n",
       "</table>\n",
       "</div>"
      ],
      "text/plain": [
       "    country_other  total_customers  total_sales  avg_sales_per_customer  \\\n",
       "0             USA               13      1040.49               80.037692   \n",
       "1          Canada                8       535.59               66.948750   \n",
       "2          Brazil                5       427.68               85.536000   \n",
       "3          France                5       389.07               77.814000   \n",
       "4         Germany                4       334.62               83.655000   \n",
       "5  Czech Republic                2       273.24              136.620000   \n",
       "6  United Kingdom                3       245.52               81.840000   \n",
       "7        Portugal                2       185.13               92.565000   \n",
       "8           India                2       183.15               91.575000   \n",
       "9           other               15      1094.94               72.996000   \n",
       "\n",
       "   avg_order_value  \n",
       "0         7.942672  \n",
       "1         7.047237  \n",
       "2         7.011148  \n",
       "3         7.781400  \n",
       "4         8.161463  \n",
       "5         9.108000  \n",
       "6         8.768571  \n",
       "7         6.383793  \n",
       "8         8.721429  \n",
       "9         7.445071  "
      ]
     },
     "execution_count": 8,
     "metadata": {},
     "output_type": "execute_result"
    }
   ],
   "source": [
    "q5='''With countrydata AS(\n",
    "     select c.country, count(DISTINCT c.customer_id) as total_customers,SUM(i.total) as total_sales,\n",
    "SUM(i.total)/cast(count(DISTINCT c.customer_id) as float) as avg_sales_per_customer,\n",
    "SUM(i.total)/cast(count(i.invoice_id) as float) as avg_order_value\n",
    "from customer as c\n",
    "Inner Join invoice as i On c.customer_id = i.customer_id\n",
    "group by 1\n",
    "order by 3 desc   \n",
    ")\n",
    "\n",
    "select\n",
    "    CASE WHEN total_customers = 1 THEN 'other'\n",
    "         ELSE country END AS country_other,\n",
    "    SUM(total_customers) as total_customers,\n",
    "    SUM(total_sales) as total_sales,\n",
    "    AVG(avg_sales_per_customer) as avg_sales_per_customer,\n",
    "    AVG(avg_order_value) as avg_order_value\n",
    "     \n",
    "from countrydata\n",
    "group by 1\n",
    "order by CASE \n",
    "    WHEN country_other = 'other' THEN 1\n",
    "    ELSE 0\n",
    "    END,\n",
    "    total_sales desc\n",
    "'''\n",
    "run_query(q5)"
   ]
  },
  {
   "cell_type": "code",
   "execution_count": 16,
   "metadata": {
    "collapsed": false
   },
   "outputs": [
    {
     "data": {
      "text/plain": [
       "<matplotlib.axes._subplots.AxesSubplot at 0x7f0f453464a8>"
      ]
     },
     "execution_count": 16,
     "metadata": {},
     "output_type": "execute_result"
    },
    {
     "data": {
      "image/png": "[encoded data removed]",
      "text/plain": [
       "<matplotlib.figure.Figure at 0x7f0f4531f710>"
      ]
     },
     "metadata": {},
     "output_type": "display_data"
    }
   ],
   "source": [
    "data3 = run_query(q5)\n",
    "data3.set_index('country_other',drop=True,inplace=True)\n",
    "\n",
    "data3['total_customers'].plot.bar()"
   ]
  },
  {
   "cell_type": "code",
   "execution_count": 17,
   "metadata": {
    "collapsed": false
   },
   "outputs": [
    {
     "data": {
      "text/plain": [
       "<matplotlib.axes._subplots.AxesSubplot at 0x7f0f452304a8>"
      ]
     },
     "execution_count": 17,
     "metadata": {},
     "output_type": "execute_result"
    },
    {
     "data": {
      "image/png": "[encoded data removed]",
      "text/plain": [
       "<matplotlib.figure.Figure at 0x7f0f4523d2e8>"
      ]
     },
     "metadata": {},
     "output_type": "display_data"
    }
   ],
   "source": [
    "data3['total_sales'].plot.bar()"
   ]
  },
  {
   "cell_type": "code",
   "execution_count": 18,
   "metadata": {
    "collapsed": false
   },
   "outputs": [
    {
     "data": {
      "text/plain": [
       "<matplotlib.axes._subplots.AxesSubplot at 0x7f0f4522bac8>"
      ]
     },
     "execution_count": 18,
     "metadata": {},
     "output_type": "execute_result"
    },
    {
     "data": {
      "image/png": "[encoded data removed]",
      "text/plain": [
       "<matplotlib.figure.Figure at 0x7f0f451beac8>"
      ]
     },
     "metadata": {},
     "output_type": "display_data"
    }
   ],
   "source": [
    "data3['avg_sales_per_customer'].plot.bar()"
   ]
  },
  {
   "cell_type": "markdown",
   "metadata": {},
   "source": [
    "The store does not let customers purchase a whole album, and then add individual tracks to that same purchase (unless they do that by choosing each track manually). When customers purchase albums they are charged the same price as if they had purchased each of those tracks seperately.\n",
    "\n",
    "Management are currently considering changing their purchasing strategy to save money. The strategy they are considering is to purchase only the most popular tracks from each album from record companies, instead of purchasing every track from an album. We want to find out what percentages of purchases are individual tracks vs whole albums, so that management can use the data to understand the effect this decision might have an overall revenue."
   ]
  },
  {
   "cell_type": "markdown",
   "metadata": {},
   "source": [
    "Categorizes each invoice as either an album purchase or not, and calculates the following summary statistics:\n",
    "    1. Number of invoices\n",
    "    2. Percentage of invoices"
   ]
  },
  {
   "cell_type": "code",
   "execution_count": 30,
   "metadata": {
    "collapsed": false
   },
   "outputs": [
    {
     "data": {
      "text/html": [
       "<div>\n",
       "<style scoped>\n",
       "    .dataframe tbody tr th:only-of-type {\n",
       "        vertical-align: middle;\n",
       "    }\n",
       "\n",
       "    .dataframe tbody tr th {\n",
       "        vertical-align: top;\n",
       "    }\n",
       "\n",
       "    .dataframe thead th {\n",
       "        text-align: right;\n",
       "    }\n",
       "</style>\n",
       "<table border=\"1\" class=\"dataframe\">\n",
       "  <thead>\n",
       "    <tr style=\"text-align: right;\">\n",
       "      <th></th>\n",
       "      <th>number_invoices</th>\n",
       "      <th>album_percentage</th>\n",
       "    </tr>\n",
       "  </thead>\n",
       "  <tbody>\n",
       "    <tr>\n",
       "      <th>0</th>\n",
       "      <td>614</td>\n",
       "      <td>0.185668</td>\n",
       "    </tr>\n",
       "  </tbody>\n",
       "</table>\n",
       "</div>"
      ],
      "text/plain": [
       "   number_invoices  album_percentage\n",
       "0              614          0.185668"
      ]
     },
     "execution_count": 30,
     "metadata": {},
     "output_type": "execute_result"
    }
   ],
   "source": [
    "q6 = '''With purchase_list as\n",
    "    (select il.invoice_id, il.track_id, t.album_id\n",
    "     from invoice_line as il\n",
    "     inner join track as t on il.track_id = t.track_id\n",
    "     ),\n",
    "     album_songs as \n",
    "     (select a.album_id,t.track_id from album as a\n",
    "     inner join track as t on a.album_id = t.album_id\n",
    "     ),\n",
    "     \n",
    "     album_purchase_data as\n",
    "     (select pl.invoice_id, \n",
    "         CASE WHEN \n",
    "         (select ass.track_id from album_songs as ass where pl.album_id = ass.album_id\n",
    "         EXCEPT\n",
    "          select il.track_id from invoice_line as il where pl.invoice_id = il.invoice_id\n",
    "         ) IS NULL\n",
    "         AND\n",
    "         (select il.track_id from invoice_line as il where pl.invoice_id = il.invoice_id\n",
    "         EXCEPT\n",
    "          select ass.track_id from album_songs as ass where pl.album_id = ass.album_id\n",
    "         ) IS NULL THEN 1\n",
    "         ELSE 0 END AS album_purchase\n",
    "    from purchase_list as pl \n",
    "    GROUP BY 1)\n",
    "    \n",
    "    select count(invoice_id) as number_invoices, cast(SUM(album_purchase) as float)/count(invoice_id) as album_percentage\n",
    "    from album_purchase_data\n",
    "'''\n",
    "run_query(q6)"
   ]
  },
  {
   "cell_type": "markdown",
   "metadata": {
    "collapsed": true
   },
   "source": [
    "# Conclusion"
   ]
  },
  {
   "cell_type": "markdown",
   "metadata": {},
   "source": [
    "It shows the whole album purchases which is 18.6% of total invoices. It means the company can go ahead with the strategy of not buying the whole album and buying selected famous tracks."
   ]
  },
  {
   "cell_type": "code",
   "execution_count": null,
   "metadata": {
    "collapsed": true
   },
   "outputs": [],
   "source": []
  }
 ],
 "metadata": {
  "kernelspec": {
   "display_name": "Python 3",
   "language": "python",
   "name": "python3"
  },
  "language_info": {
   "codemirror_mode": {
    "name": "ipython",
    "version": 3
   },
   "file_extension": ".py",
   "mimetype": "text/x-python",
   "name": "python",
   "nbconvert_exporter": "python",
   "pygments_lexer": "ipython3",
   "version": "3.4.3"
  }
 },
 "nbformat": 4,
 "nbformat_minor": 2
}
